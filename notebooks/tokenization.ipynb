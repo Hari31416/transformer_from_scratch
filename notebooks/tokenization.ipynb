{
 "cells": [
  {
   "cell_type": "markdown",
   "metadata": {},
   "source": [
    "# Imports"
   ]
  },
  {
   "cell_type": "code",
   "execution_count": 2,
   "metadata": {},
   "outputs": [],
   "source": [
    "import torch\n",
    "import torch.nn as nn\n",
    "import pandas as pd\n",
    "\n",
    "T = torch.Tensor\n",
    "M = nn.Module\n",
    "\n",
    "\n",
    "from tokenizers import (\n",
    "    decoders,\n",
    "    models,\n",
    "    normalizers,\n",
    "    pre_tokenizers,\n",
    "    trainers,\n",
    "    Tokenizer,\n",
    ")\n",
    "import json"
   ]
  },
  {
   "cell_type": "markdown",
   "metadata": {},
   "source": [
    "# Tokenization for Lyric Data"
   ]
  },
  {
   "cell_type": "markdown",
   "metadata": {},
   "source": [
    "We start by loading the json file containing the lyrics data."
   ]
  },
  {
   "cell_type": "code",
   "execution_count": 3,
   "metadata": {},
   "outputs": [],
   "source": [
    "songs_file_path = \"../data/songs_section_wise.json\"\n",
    "with open(songs_file_path, \"r\") as f:\n",
    "    songs = json.load(f)"
   ]
  },
  {
   "cell_type": "markdown",
   "metadata": {},
   "source": [
    "Next, create a list of all the lyrics in the dataset."
   ]
  },
  {
   "cell_type": "code",
   "execution_count": 5,
   "metadata": {},
   "outputs": [],
   "source": [
    "def fetch_all_lyrics(songs_file_path):\n",
    "    with open(songs_file_path, \"r\") as f:\n",
    "        songs = json.load(f)\n",
    "    lyrics = []\n",
    "    for _, sections in songs.items():\n",
    "\n",
    "        for section in sections:\n",
    "            lyrics.append(section[\"lyrics\"])\n",
    "\n",
    "    return lyrics\n",
    "\n",
    "lyrics = fetch_all_lyrics(songs_file_path)"
   ]
  },
  {
   "cell_type": "markdown",
   "metadata": {},
   "source": [
    "Now, tokenization can be started. For this, I have used the `tokenizers` library from the Hugging Face Transformers library. This library provides a variety of tokenizers for different models. Here, I have used a `WordPiece` model, used in models like BERT, RoBERTa, etc. Have a look at this [chapter](https://huggingface.co/learn/nlp-course/en/chapter6/6) from the Hugging Face course to learn more about this."
   ]
  },
  {
   "cell_type": "code",
   "execution_count": 10,
   "metadata": {},
   "outputs": [
    {
     "name": "stdout",
     "output_type": "stream",
     "text": [
      "\n",
      "\n",
      "\n"
     ]
    }
   ],
   "source": [
    "tokenizer = Tokenizer(models.WordPiece(unk_token=\"[UNK]\"))\n",
    "tokenizer.pre_tokenizer = pre_tokenizers.BertPreTokenizer()\n",
    "tokenizer.decoder = decoders.WordPiece()\n",
    "tokenizer.normalizer = normalizers.Sequence(\n",
    "    [normalizers.NFD(), normalizers.Lowercase(), normalizers.StripAccents()]\n",
    ")\n",
    "\n",
    "trainer = trainers.WordPieceTrainer(\n",
    "    vocab_size=10000, special_tokens=[\"[UNK]\", \"[CLS]\", \"[SEP]\", \"[PAD]\", \"[MASK]\"]\n",
    ")\n",
    "\n",
    "tokenizer.train_from_iterator(lyrics, trainer=trainer)\n",
    "\n",
    "# now save the tokenizer\n",
    "tokenizer.save(\"../data/tokenizer_eng_lyrics.json\")"
   ]
  },
  {
   "cell_type": "markdown",
   "metadata": {},
   "source": [
    "# Tokenization for English and French Translation Data"
   ]
  },
  {
   "cell_type": "markdown",
   "metadata": {},
   "source": [
    "The same process can be followed for the English and French translation data."
   ]
  },
  {
   "cell_type": "code",
   "execution_count": null,
   "metadata": {},
   "outputs": [],
   "source": [
    "df = pd.read_csv(\"../data/eng_french.csv\")\n",
    "\n",
    "\n",
    "def get_english_training_corpus():\n",
    "    return df[\"eng\"].tolist()\n",
    "\n",
    "\n",
    "def get_french_training_corpus():\n",
    "    return df[\"fr\"].tolist()"
   ]
  },
  {
   "cell_type": "code",
   "execution_count": null,
   "metadata": {},
   "outputs": [],
   "source": [
    "tokenizer = Tokenizer(models.WordPiece(unk_token=\"[UNK]\"))\n",
    "tokenizer.pre_tokenizer = pre_tokenizers.BertPreTokenizer()\n",
    "tokenizer.decoder = decoders.WordPiece()\n",
    "tokenizer.normalizer = normalizers.Sequence(\n",
    "    [normalizers.NFD(), normalizers.Lowercase(), normalizers.StripAccents()]\n",
    ")\n",
    "\n",
    "trainer = trainers.WordPieceTrainer(\n",
    "    vocab_size=10000, special_tokens=[\"[UNK]\", \"[CLS]\", \"[SEP]\", \"[PAD]\", \"[MASK]\"]\n",
    ")\n",
    "\n",
    "tokenizer.train_from_iterator(get_english_training_corpus(), trainer=trainer)\n",
    "\n",
    "# now save the tokenizer\n",
    "tokenizer.save(\"data/tokenizer_eng.json\")"
   ]
  },
  {
   "cell_type": "code",
   "execution_count": null,
   "metadata": {},
   "outputs": [],
   "source": [
    "tokenizer = Tokenizer(models.WordPiece(unk_token=\"[UNK]\"))\n",
    "tokenizer.pre_tokenizer = pre_tokenizers.BertPreTokenizer()\n",
    "tokenizer.decoder = decoders.WordPiece()\n",
    "tokenizer.normalizer = normalizers.Sequence(\n",
    "    [normalizers.NFD(), normalizers.Lowercase(), normalizers.StripAccents()]\n",
    ")\n",
    "\n",
    "trainer = trainers.WordPieceTrainer(\n",
    "    vocab_size=10000, special_tokens=[\"[UNK]\", \"[CLS]\", \"[SEP]\", \"[PAD]\", \"[MASK]\"]\n",
    ")\n",
    "\n",
    "tokenizer.train_from_iterator(get_french_training_corpus(), trainer=trainer)\n",
    "tokenizer.save(\"data/tokenizer_fr.json\")"
   ]
  },
  {
   "cell_type": "markdown",
   "metadata": {},
   "source": [
    "# Loading the Tokenizer"
   ]
  },
  {
   "cell_type": "markdown",
   "metadata": {},
   "source": [
    "Huggigface makes it very easy to load a tokenizer. One can use `Tokenizer.from_file` to load a tokenizer from a file."
   ]
  },
  {
   "cell_type": "code",
   "execution_count": null,
   "metadata": {},
   "outputs": [],
   "source": [
    "tokenizer = Tokenizer.from_file(\"data/tokenizer_eng.json\")"
   ]
  }
 ],
 "metadata": {
  "kernelspec": {
   "display_name": "data_science",
   "language": "python",
   "name": "python3"
  },
  "language_info": {
   "codemirror_mode": {
    "name": "ipython",
    "version": 3
   },
   "file_extension": ".py",
   "mimetype": "text/x-python",
   "name": "python",
   "nbconvert_exporter": "python",
   "pygments_lexer": "ipython3",
   "version": "3.10.13"
  }
 },
 "nbformat": 4,
 "nbformat_minor": 2
}
